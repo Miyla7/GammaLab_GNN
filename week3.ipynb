{
 "nbformat": 4,
 "nbformat_minor": 0,
 "metadata": {
  "colab": {
   "provenance": []
  },
  "kernelspec": {
   "name": "conda-env-GNN-py",
   "language": "python",
   "display_name": "Python [conda env:GNN] *"
  },
  "language_info": {
   "name": "python"
  }
 },
 "cells": [
  {
   "cell_type": "markdown",
   "source": [
    "In this work, you are required to implement an easy linear regression with machine learning methods based on numpy. It is better not to use the deep learning libraries such as PyTorch or Tensorflow .etc."
   ],
   "metadata": {
    "id": "C_LqSe6BOIMO"
   }
  },
  {
   "cell_type": "markdown",
   "source": [
    "The first is the data generation. We can generate data that follows a linear distribution with the following functions."
   ],
   "metadata": {
    "id": "jOJEgBOHTwG5"
   }
  },
  {
   "cell_type": "code",
   "execution_count": 1,
   "metadata": {
    "id": "Z5aJpqiDNvj8",
    "ExecuteTime": {
     "end_time": "2024-05-06T09:01:52.241982100Z",
     "start_time": "2024-05-06T09:01:52.096765200Z"
    }
   },
   "outputs": [],
   "source": [
    "import numpy as np\n",
    "def get_data(num):\n",
    "  for _ in range(num):\n",
    "    x = np.random.uniform(-10.0, 10.0)\n",
    "    noise = np.random.normal(0, 1)\n",
    "    y = x * 2 + 1 + noise\n",
    "    yield np.array([x]).astype(np.float32), np.array([y]).astype(np.float32)\n",
    "\n",
    "x = np.array([])\n",
    "y = np.array([])\n",
    "for x0, y0 in get_data(1000):\n",
    "  x = np.append(x, x0)\n",
    "  y = np.append(y, y0)"
   ]
  },
  {
   "cell_type": "code",
   "execution_count": 2,
   "outputs": [
    {
     "data": {
      "text/plain": "<Figure size 640x480 with 1 Axes>",
      "image/png": "[encoded data removed]"
     },
     "metadata": {},
     "output_type": "display_data"
    }
   ],
   "source": [
    "#vision \n",
    "from matplotlib import pyplot as plt\n",
    "plt.xlabel('x')\n",
    "plt.ylabel('y')\n",
    "plt.scatter(x,y)\n",
    "plt.savefig('./results/line.png')"
   ],
   "metadata": {
    "collapsed": false,
    "ExecuteTime": {
     "end_time": "2024-05-06T09:01:55.760237400Z",
     "start_time": "2024-05-06T09:01:54.383469600Z"
    }
   }
  },
  {
   "cell_type": "markdown",
   "source": [
    "The following is setting the hyperparameters, and the initialization of the learnable parameters."
   ],
   "metadata": {
    "id": "HwsYNcPpVrog"
   }
  },
  {
   "cell_type": "code",
   "source": [
    "learn_rate = 0.00001\n",
    "epochs = 100\n",
    "display_step = 10\n",
    "np.random.seed(0)#其中np.random.seed(0)的作用是使得随机数据可预测，当我们设置相同的seed，每次生成的随机数相同，如果不设置seed，则每次会生成不同的随机数：\n",
    "w = np.random.rand()\n",
    "b = np.random.rand()\n",
    "\n"
   ],
   "metadata": {
    "id": "tpmidqWHV7st",
    "ExecuteTime": {
     "end_time": "2024-05-06T09:01:59.396709300Z",
     "start_time": "2024-05-06T09:01:58.753461500Z"
    }
   },
   "execution_count": 3,
   "outputs": [
    {
     "ename": "AttributeError",
     "evalue": "'float' object has no attribute 'attach_grad'",
     "output_type": "error",
     "traceback": [
      "\u001B[1;31m---------------------------------------------------------------------------\u001B[0m",
      "\u001B[1;31mAttributeError\u001B[0m                            Traceback (most recent call last)",
      "Cell \u001B[1;32mIn[3], line 8\u001B[0m\n\u001B[0;32m      5\u001B[0m w \u001B[38;5;241m=\u001B[39m np\u001B[38;5;241m.\u001B[39mrandom\u001B[38;5;241m.\u001B[39mrand()\n\u001B[0;32m      6\u001B[0m b \u001B[38;5;241m=\u001B[39m np\u001B[38;5;241m.\u001B[39mrandom\u001B[38;5;241m.\u001B[39mrand()\n\u001B[1;32m----> 8\u001B[0m \u001B[43mw\u001B[49m\u001B[38;5;241;43m.\u001B[39;49m\u001B[43mattach_grad\u001B[49m()\n\u001B[0;32m      9\u001B[0m b\u001B[38;5;241m.\u001B[39mattach_grad()\n",
      "\u001B[1;31mAttributeError\u001B[0m: 'float' object has no attribute 'attach_grad'"
     ]
    }
   ]
  },
  {
   "cell_type": "code",
   "execution_count": 4,
   "outputs": [],
   "source": [
    "#定义模型 深度学习中叫做前向传播forward函数\n",
    "def linreg(x,w,b):\n",
    "    y = x*w + b\n",
    "    return y"
   ],
   "metadata": {
    "collapsed": false,
    "ExecuteTime": {
     "end_time": "2024-05-06T09:29:08.350169200Z",
     "start_time": "2024-05-06T09:29:08.349168100Z"
    }
   }
  },
  {
   "cell_type": "code",
   "execution_count": null,
   "outputs": [],
   "source": [
    "#定义损失函数\n",
    "def loss_mse(y_hat,y):\n",
    "    loss = (y_hat - y)**2/2*len(y)\n",
    "    return loss"
   ],
   "metadata": {
    "collapsed": false
   }
  },
  {
   "cell_type": "code",
   "execution_count": null,
   "outputs": [],
   "source": [
    "  #定义优化算法 深度学习中是定义反向传播函数 backward(): 如果是非常复杂的函数需要调包求\n",
    "def grad(w, b,lr, display_step):\n",
    "    w_new  =  w - lr * x\n",
    "    b_new = b - lr * 1\n",
    "    return w_new,b_new\n",
    "    "
   ],
   "metadata": {
    "collapsed": false
   }
  },
  {
   "cell_type": "markdown",
   "source": [
    "So, you only need to write the code to train the learnable parameters w and b. We recommend you use the mean square error function."
   ],
   "metadata": {
    "id": "XoLQ2KCMWKz-"
   }
  },
  {
   "cell_type": "code",
   "source": [
    "# from sklearn.linear_model import LinearRegression\n",
    "import numpy as np\n",
    "# y = np.dot(x, w) + b\n",
    "# re = LinearRegression().fit(x, y)\n",
    "model = linreg\n",
    "loss = loss_mse\n",
    "for epoch in range(epochs):\n",
    "  # Your code here\n",
    "  #利用梯度下降法求解模型\n",
    "  for i in range(len(x)):\n",
    "      \n",
    "  \n",
    "  \n",
    "  # End your code"
   ],
   "metadata": {
    "id": "bKv5Se1tWmVY",
    "ExecuteTime": {
     "end_time": "2024-05-05T17:16:10.180387700Z",
     "start_time": "2024-05-05T17:16:07.614624800Z"
    }
   },
   "execution_count": 3,
   "outputs": [
    {
     "ename": "KeyboardInterrupt",
     "evalue": "",
     "output_type": "error",
     "traceback": [
      "\u001B[1;31m---------------------------------------------------------------------------\u001B[0m",
      "\u001B[1;31mKeyboardInterrupt\u001B[0m                         Traceback (most recent call last)",
      "Cell \u001B[1;32mIn[3], line 2\u001B[0m\n\u001B[0;32m      1\u001B[0m \u001B[38;5;66;03m# from sklearn.linear_model import LinearRegression\u001B[39;00m\n\u001B[1;32m----> 2\u001B[0m \u001B[38;5;28;01mimport\u001B[39;00m \u001B[38;5;21;01mnumpy\u001B[39;00m \u001B[38;5;28;01mas\u001B[39;00m \u001B[38;5;21;01mnp\u001B[39;00m\n\u001B[0;32m      3\u001B[0m \u001B[38;5;66;03m# y = np.dot(x, w) + b\u001B[39;00m\n\u001B[0;32m      4\u001B[0m \u001B[38;5;66;03m# re = LinearRegression().fit(x, y)\u001B[39;00m\n\u001B[0;32m      5\u001B[0m \u001B[38;5;28;01mfor\u001B[39;00m epoch \u001B[38;5;129;01min\u001B[39;00m \u001B[38;5;28mrange\u001B[39m(epochs):\n\u001B[0;32m      6\u001B[0m   \u001B[38;5;66;03m# Your code here\u001B[39;00m\n\u001B[0;32m      7\u001B[0m   \u001B[38;5;66;03m#利用梯度下降法求解模型\u001B[39;00m\n\u001B[0;32m      8\u001B[0m   \u001B[38;5;66;03m#1.如何定义损失函数，前向传播\u001B[39;00m\n",
      "File \u001B[1;32mF:\\Anaconda\\envs\\GNN\\Lib\\site-packages\\numpy\\__init__.py:374\u001B[0m\n\u001B[0;32m    367\u001B[0m         msg \u001B[38;5;241m=\u001B[39m (\u001B[38;5;124m\"\u001B[39m\u001B[38;5;124mThe current Numpy installation (\u001B[39m\u001B[38;5;132;01m{!r}\u001B[39;00m\u001B[38;5;124m) fails to \u001B[39m\u001B[38;5;124m\"\u001B[39m\n\u001B[0;32m    368\u001B[0m                \u001B[38;5;124m\"\u001B[39m\u001B[38;5;124mpass simple sanity checks. This can be caused for example \u001B[39m\u001B[38;5;124m\"\u001B[39m\n\u001B[0;32m    369\u001B[0m                \u001B[38;5;124m\"\u001B[39m\u001B[38;5;124mby incorrect BLAS library being linked in, or by mixing \u001B[39m\u001B[38;5;124m\"\u001B[39m\n\u001B[0;32m    370\u001B[0m                \u001B[38;5;124m\"\u001B[39m\u001B[38;5;124mpackage managers (pip, conda, apt, ...). Search closed \u001B[39m\u001B[38;5;124m\"\u001B[39m\n\u001B[0;32m    371\u001B[0m                \u001B[38;5;124m\"\u001B[39m\u001B[38;5;124mnumpy issues for similar problems.\u001B[39m\u001B[38;5;124m\"\u001B[39m)\n\u001B[0;32m    372\u001B[0m         \u001B[38;5;28;01mraise\u001B[39;00m \u001B[38;5;167;01mRuntimeError\u001B[39;00m(msg\u001B[38;5;241m.\u001B[39mformat(\u001B[38;5;18m__file__\u001B[39m)) \u001B[38;5;28;01mfrom\u001B[39;00m \u001B[38;5;28;01mNone\u001B[39;00m\n\u001B[1;32m--> 374\u001B[0m \u001B[43m_sanity_check\u001B[49m\u001B[43m(\u001B[49m\u001B[43m)\u001B[49m\n\u001B[0;32m    375\u001B[0m \u001B[38;5;28;01mdel\u001B[39;00m _sanity_check\n\u001B[0;32m    377\u001B[0m \u001B[38;5;28;01mdef\u001B[39;00m \u001B[38;5;21m_mac_os_check\u001B[39m():\n",
      "File \u001B[1;32mF:\\Anaconda\\envs\\GNN\\Lib\\site-packages\\numpy\\__init__.py:364\u001B[0m, in \u001B[0;36m_sanity_check\u001B[1;34m()\u001B[0m\n\u001B[0;32m    362\u001B[0m \u001B[38;5;28;01mtry\u001B[39;00m:\n\u001B[0;32m    363\u001B[0m     x \u001B[38;5;241m=\u001B[39m ones(\u001B[38;5;241m2\u001B[39m, dtype\u001B[38;5;241m=\u001B[39mfloat32)\n\u001B[1;32m--> 364\u001B[0m     \u001B[38;5;28;01mif\u001B[39;00m \u001B[38;5;129;01mnot\u001B[39;00m \u001B[38;5;28mabs\u001B[39m(\u001B[43mx\u001B[49m\u001B[38;5;241;43m.\u001B[39;49m\u001B[43mdot\u001B[49m\u001B[43m(\u001B[49m\u001B[43mx\u001B[49m\u001B[43m)\u001B[49m \u001B[38;5;241m-\u001B[39m float32(\u001B[38;5;241m2.0\u001B[39m)) \u001B[38;5;241m<\u001B[39m \u001B[38;5;241m1e-5\u001B[39m:\n\u001B[0;32m    365\u001B[0m         \u001B[38;5;28;01mraise\u001B[39;00m \u001B[38;5;167;01mAssertionError\u001B[39;00m()\n\u001B[0;32m    366\u001B[0m \u001B[38;5;28;01mexcept\u001B[39;00m \u001B[38;5;167;01mAssertionError\u001B[39;00m:\n",
      "\u001B[1;31mKeyboardInterrupt\u001B[0m: "
     ]
    }
   ]
  },
  {
   "cell_type": "code",
   "execution_count": null,
   "outputs": [],
   "source": [],
   "metadata": {
    "collapsed": false
   }
  }
 ]
}
