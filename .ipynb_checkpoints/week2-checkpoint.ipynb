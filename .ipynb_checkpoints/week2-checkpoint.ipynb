{
 "nbformat": 4,
 "nbformat_minor": 0,
 "metadata": {
  "colab": {
   "provenance": []
  },
  "kernelspec": {
   "name": "python3",
   "language": "python",
   "display_name": "Python 3 (ipykernel)"
  },
  "language_info": {
   "name": "python"
  }
 },
 "cells": [
  {
   "cell_type": "markdown",
   "source": [
    "In this work, you need to do data processing with some python libraries like Numpy and Pandas. Detail descriptions will be found in the folowing code blocks."
   ],
   "metadata": {
    "id": "hazStIkOOaYx"
   }
  },
  {
   "cell_type": "markdown",
   "source": [
    "In this part, you need to follow the instructions and implement the functions with numpy. You should use the following normalize function:\n",
    "\n",
    "$$\n",
    "x_i = \\frac{x_i}{\\sqrt{\\sum_{j=1}x_j^2}}\n",
    "$$"
   ],
   "metadata": {
    "id": "2FTSJYWdbiFT"
   }
  },
  {
   "cell_type": "code",
   "source": [
    "import numpy as np\n",
    "\n",
    "def add(x, y):\n",
    "  \"\"\"A basic add function to add ``numpy.array`` or python numbers.\n",
    "  For example: the output of add(5.3, 2) is 7.3.\n",
    "\n",
    "  Parameters\n",
    "  ----------\n",
    "  x: python number or numpy.array\n",
    "  y: python number or numpy.array\n",
    "\n",
    "  Returns\n",
    "  -------\n",
    "  z: python number or numpy.array\n",
    "\n",
    "  \"\"\"\n",
    "  # Your code here\n",
    "  #isinstance函数是判断变量的类型\n",
    "  if isinstance(x, (int, float)) and isinstance(y, (int, float)):\n",
    "  # If both inputs are Python numbers, simply add them\n",
    "    return x + y\n",
    "  elif isinstance(x, np.ndarray) and isinstance(y, np.ndarray):\n",
    "        # If both inputs are NumPy arrays, use element-wise addition\n",
    "    return np.add(x, y)\n",
    "  elif isinstance(x, np.ndarray) and isinstance(y, (int, float)):\n",
    "        # If one input is a NumPy array and the other is a Python number,\n",
    "        # add the number to each element of the array\n",
    "    return x + y\n",
    "  elif isinstance(x, (int, float)) and isinstance(y, np.ndarray):\n",
    "        # If one input is a Python number and the other is a NumPy array,\n",
    "        # add the number to each element of the array\n",
    "    return y + x\n",
    "  else:\n",
    "        # If the inputs are of unsupported types, raise an error\n",
    "    raise TypeError(\"Unsupported types for inputs: {} and {}\".format(type(x), type(y)))\n",
    "  # End code here"
   ],
   "metadata": {
    "id": "upFEumqSbtdD",
    "is_executing": true
   },
   "execution_count": null,
   "outputs": []
  },
  {
   "cell_type": "code",
   "source": [
    "def norm(matrix, axis = 0):\n",
    "  \"\"\"A function to normalize a certain dimension of a matrix.\n",
    "  You should calculate using the follwing equation:\n",
    "\n",
    "  .. math::\n",
    "    \n",
    "\n",
    "  For example, if we input a matrix: np.array([[1,1,1,1],[2,2,2,2]]) and axis = 1,\n",
    "  we will get a output matrix: np.array([[0.5,0.5,0.5,0.5],[0.5,0.5,0.5,0.5]])\n",
    "\n",
    "  Parameters\n",
    "  ----------\n",
    "  matrix: numpy.array\n",
    "    The input matrix of two dimensions.\n",
    "\n",
    "  Returns\n",
    "  -------\n",
    "  matrix: numpy.array\n",
    "    The normalized matrix\n",
    "  \"\"\"\n",
    "  # Your code here\n",
    "  \n",
    " \n",
    "  # Compute the L2 norm along the specified axis\n",
    "  norm_factor = np.sqrt(np.sum(matrix ** 2, axis=axis))\n",
    "    \n",
    "  # Normalize the matrix\n",
    "  matrix = np.divide(matrix,norm_factor)\n",
    "    \n",
    "  return matrix\n",
    "  # End code here\n"
   ],
   "metadata": {
    "id": "BmCOeqwkdOWS",
    "is_executing": true
   },
   "execution_count": null,
   "outputs": []
  },
  {
   "cell_type": "markdown",
   "source": [
    "Run the following code to get the dataset of this work."
   ],
   "metadata": {
    "id": "uxPfLNdgbUDa"
   }
  },
  {
   "cell_type": "code",
   "execution_count": null,
   "metadata": {
    "colab": {
     "base_uri": "https://localhost:8080/"
    },
    "id": "-IvlQTfyOX_v",
    "outputId": "99a975d4-9a15-4d84-c484-d68e70bc6b7b"
   },
   "outputs": [
    {
     "output_type": "stream",
     "name": "stdout",
     "text": [
      "Mounted at /content/drive\n",
      "/content/drive/MyDrive\n",
      "/content/drive/MyDrive/week2\n",
      "Cloning into 'interns'...\n",
      "remote: Enumerating objects: 4, done.\u001B[K\n",
      "remote: Counting objects: 100% (4/4), done.\u001B[K\n",
      "remote: Compressing objects: 100% (4/4), done.\u001B[K\n",
      "remote: Total 4 (delta 0), reused 0 (delta 0), pack-reused 0\u001B[K\n",
      "Receiving objects: 100% (4/4), 4.53 KiB | 1.13 MiB/s, done.\n",
      "[Errno 2] No such file or directory: '/content/drive/MyDrive/week2/interns/weekly work/week2/data'\n",
      "/content/drive/MyDrive/week2\n"
     ]
    }
   ],
   "source": [
    "from google.colab import drive\n",
    "drive.mount('/content/drive')\n",
    "%cd /content/drive/MyDrive/\n",
    "!mkdir -p week2\n",
    "%cd /content/drive/MyDrive/week2\n",
    "!git clone https://github.com/dddg617/interns\n",
    "%cd /content/drive/MyDrive/week2/interns/weekly work/week2/data"
   ]
  },
  {
   "cell_type": "markdown",
   "source": [
    "Try to use pandas to load the dataset \"dataset2.csv\", and process it following the instructrons in docstrings."
   ],
   "metadata": {
    "id": "eu30340TfvrS"
   }
  },
  {
   "cell_type": "code",
   "source": [
    "import pandas as pd\n",
    "def load_data():\n",
    "  \"\"\"1. In this function, you should load the dataset named \"dataset2.csv\".\n",
    "  2. You need to remove the rows contain empty data.\n",
    "  Suppose the number of rows is ``R``.\n",
    "  3. You need to process the abnormal data that has \"_\".\n",
    "  For example, you should replace \"101_\" with \"101\".\n",
    "  4. You should calculate the average number of each column.\n",
    "  The outcome should be added to the original \"DataFrame\".\n",
    "  That means, the number of columns you return should be ``R+1``.\n",
    "\n",
    "  Returns\n",
    "  -------\n",
    "  data: pandas.DataFrame\n",
    "    The processed data following the instructions.\n",
    "\n",
    "  \"\"\"\n",
    "  # Your code here\n",
    "\n",
    "  # End code here\n",
    "  return data"
   ],
   "metadata": {
    "id": "Jwp1Gh2Tf2RH"
   },
   "execution_count": null,
   "outputs": []
  },
  {
   "cell_type": "markdown",
   "source": [
    "After you implement these functions, you may run the following code to check your answer."
   ],
   "metadata": {
    "id": "WmTdza14i3gr"
   }
  },
  {
   "cell_type": "code",
   "source": [
    "assert add(5,6) == 11\n",
    "assert add(3.2,1.0) == 4.2\n",
    "assert type(add(4., 4)) == float\n",
    "np.testing.assert_allclose(add(np.array([1,2]), np.array([3,4])),\n",
    "                np.array([4,6]))\n",
    "\n",
    "data = np.array([[2, 4, 6], [1, 3, 5], [3, 6, 9]])\n",
    "normalized_data = norm(data, axis=1)\n",
    "assert np.allclose(normalized_data, [[0.26726124, 0.53452248, 0.80178373],\n",
    "                    [0.16903085, 0.50709255, 0.84515425],\n",
    "                    [0.26726124, 0.53452248, 0.80178373]])\n",
    "\n",
    "data = load_data()\n",
    "assert len(data) == 327\n",
    "for column in data.columns:\n",
    "  assert np.allclose(data.values[-1], [293734.71875, 1.9938838481903076, 29.373088836669922,\n",
    "                      9.994159698486328, 1739.4874267578125, 794.76171875, 388.9890441894531])\n"
   ],
   "metadata": {
    "id": "-bqRtnnPi9Ki",
    "is_executing": true
   },
   "execution_count": null,
   "outputs": []
  },
  {
   "cell_type": "code",
   "execution_count": null,
   "outputs": [],
   "source": [],
   "metadata": {
    "collapsed": false
   }
  }
 ]
}
