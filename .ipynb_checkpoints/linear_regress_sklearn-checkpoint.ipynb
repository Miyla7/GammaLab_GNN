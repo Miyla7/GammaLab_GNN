{
 "cells": [
  {
   "cell_type": "code",
   "execution_count": null,
   "outputs": [],
   "source": [
    "import numpy as np\n",
    "from matplotlib import pyplot as plt \n",
    "\n",
    "\n",
    "\n"
   ],
   "metadata": {
    "collapsed": false,
    "is_executing": true
   },
   "id": "4195526a480df48a"
  },
  {
   "cell_type": "code",
   "execution_count": null,
   "outputs": [],
   "source": [
    "X = [100,110,120,130,140]\n",
    "y = [100 * 1, 110 * 1.05, 120 * 1.1, 130 * 0.95, 140 * 0.9]  # 房价（万元）\n",
    "plt.scatter(X,y,c = 'red')\n",
    "plt.ylim(80,160)\n",
    "plt.xlim(80,160)\n",
    "plt.show()\n"
   ],
   "metadata": {
    "collapsed": false,
    "is_executing": true
   },
   "id": "428dc68f695755c1"
  },
  {
   "cell_type": "code",
   "execution_count": null,
   "outputs": [],
   "source": [
    "from sklearn import linear_model\n",
    "#导入sklearn中的模型\n",
    "model = linear_model.LinearRegression()"
   ],
   "metadata": {
    "collapsed": false,
    "is_executing": true
   },
   "id": "1730ea434e26d7f6"
  },
  {
   "cell_type": "code",
   "execution_count": null,
   "outputs": [],
   "source": [
    "LinearRegression()"
   ],
   "metadata": {
    "collapsed": false,
    "is_executing": true
   },
   "id": "ab4679cc250e7e05"
  },
  {
   "cell_type": "code",
   "execution_count": null,
   "outputs": [],
   "source": [
    "print(model.predict(X))\n",
    "X_ = np.arange(80,160).reshape(-1,1)\n",
    "y = model.predict(X_)\n",
    "\n",
    "plt.scatter(X,y, c = 'red')\n",
    "plt.plot(X,y,c = 'red')\n",
    "plt.show()"
   ],
   "metadata": {
    "collapsed": false
   },
   "id": "40d8d76c8e3b31c9"
  }
 ],
 "metadata": {
  "kernelspec": {
   "display_name": "Python 3",
   "language": "python",
   "name": "python3"
  },
  "language_info": {
   "codemirror_mode": {
    "name": "ipython",
    "version": 2
   },
   "file_extension": ".py",
   "mimetype": "text/x-python",
   "name": "python",
   "nbconvert_exporter": "python",
   "pygments_lexer": "ipython2",
   "version": "2.7.6"
  }
 },
 "nbformat": 4,
 "nbformat_minor": 5
}
