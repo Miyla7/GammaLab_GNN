{
 "cells": [
  {
   "cell_type": "markdown",
   "metadata": {
    "id": "hazStIkOOaYx"
   },
   "source": [
    "In this work, you need to do data processing with some python libraries like Numpy and Pandas. Detail descriptions will be found in the folowing code blocks."
   ]
  },
  {
   "cell_type": "markdown",
   "metadata": {
    "id": "2FTSJYWdbiFT"
   },
   "source": [
    "In this part, you need to follow the instructions and implement the functions with numpy. You should use the following normalize function:\n",
    "\n",
    "$$\n",
    "x_i = \\frac{x_i}{\\sqrt{\\sum_{j=1}x_j^2}}\n",
    "$$"
   ]
  },
  {
   "cell_type": "code",
   "execution_count": 1,
   "metadata": {
    "id": "upFEumqSbtdD",
    "ExecuteTime": {
     "end_time": "2024-05-06T08:48:34.369309800Z",
     "start_time": "2024-05-06T08:48:34.232594700Z"
    }
   },
   "outputs": [],
   "source": [
    "import numpy as np\n",
    "\n",
    "def add(x, y):\n",
    "  \"\"\"A basic add function to add ``numpy.array`` or python numbers.\n",
    "  For example: the output of add(5.3, 2) is 7.3.\n",
    "\n",
    "  Parameters\n",
    "  ----------\n",
    "  x: python number or numpy.array\n",
    "  y: python number or numpy.array\n",
    "\n",
    "  Returns\n",
    "  -------\n",
    "  z: python number or numpy.array\n",
    "\n",
    "  \"\"\"\n",
    "  # Your code here\n",
    "  #isinstance函数是判断变量的类型\n",
    "  if isinstance(x, (int, float)) and isinstance(y, (int, float)):\n",
    "  # If both inputs are Python numbers, simply add them\n",
    "    return x + y\n",
    "  elif isinstance(x, np.ndarray) and isinstance(y, np.ndarray):\n",
    "        # If both inputs are NumPy arrays, use element-wise addition\n",
    "    return np.add(x, y)\n",
    "  elif isinstance(x, np.ndarray) and isinstance(y, (int, float)):\n",
    "        # If one input is a NumPy array and the other is a Python number,\n",
    "        # add the number to each element of the array\n",
    "    return x + y\n",
    "  elif isinstance(x, (int, float)) and isinstance(y, np.ndarray):\n",
    "        # If one input is a Python number and the other is a NumPy array,\n",
    "        # add the number to each element of the array\n",
    "    return y + x\n",
    "  else:\n",
    "        # If the inputs are of unsupported types, raise an error\n",
    "    raise TypeError(\"Unsupported types for inputs: {} and {}\".format(type(x), type(y)))\n",
    "  # End code here"
   ]
  },
  {
   "cell_type": "code",
   "execution_count": 2,
   "metadata": {
    "id": "BmCOeqwkdOWS",
    "ExecuteTime": {
     "end_time": "2024-05-06T08:48:34.378743700Z",
     "start_time": "2024-05-06T08:48:34.371311300Z"
    }
   },
   "outputs": [],
   "source": [
    "def norm(matrix, axis = 0):\n",
    "  \"\"\"A function to normalize a certain dimension of a matrix.\n",
    "  You should calculate using the follwing equation:\n",
    "\n",
    "  .. math::\n",
    "    \n",
    "\n",
    "  For example, if we input a matrix: np.array([[1,1,1,1],[2,2,2,2]]) and axis = 1,\n",
    "  we will get a output matrix: np.array([[0.5,0.5,0.5,0.5],[0.5,0.5,0.5,0.5]])\n",
    "\n",
    "  Parameters\n",
    "  ----------\n",
    "  matrix: numpy.array\n",
    "    The input matrix of two dimensions.\n",
    "\n",
    "  Returns\n",
    "  -------\n",
    "  matrix: numpy.array\n",
    "    The normalized matrix\n",
    "  \"\"\"\n",
    "  # Your code here\n",
    "  \n",
    " \n",
    "  # Compute the L2 norm along the specified axis\n",
    "  norm_factor = np.sqrt(np.sum(matrix ** 2, axis=axis))\n",
    "  # matrix_new = matrix ** 2\n",
    "  matrix = matrix.T/list(norm_factor) \n",
    "  # Normalize the matrix\n",
    "  # matrix_new = []\n",
    "  # for i in range(0,np.size(matrix,0)):\n",
    "  #     for j in range(0,len(norm_factor)):\n",
    "  #       np.divide(matrix[i,:],norm_factor[j])\n",
    "  #       matrix_new = matrix_new.append(matrix_col)\n",
    "  # matrix =matrix_new \n",
    "  return matrix.T\n",
    "  # End code here\n"
   ]
  },
  {
   "cell_type": "markdown",
   "metadata": {
    "id": "uxPfLNdgbUDa"
   },
   "source": [
    "Run the following code to get the dataset of this work."
   ]
  },
  {
   "cell_type": "code",
   "execution_count": 3,
   "metadata": {
    "colab": {
     "base_uri": "https://localhost:8080/"
    },
    "id": "-IvlQTfyOX_v",
    "outputId": "99a975d4-9a15-4d84-c484-d68e70bc6b7b",
    "ExecuteTime": {
     "end_time": "2024-05-06T08:48:35.575295900Z",
     "start_time": "2024-05-06T08:48:35.563583400Z"
    }
   },
   "outputs": [],
   "source": [
    "# from google.colab import drive\n",
    "# drive.mount('/content/drive')\n",
    "# %cd /content/drive/MyDrive/\n",
    "# !mkdir -p week2\n",
    "# %cd /content/drive/MyDrive/week2\n",
    "# !git clone https://github.com/dddg617/interns\n",
    "# %cd /content/drive/MyDrive/week2/interns/weekly work/week2/data"
   ]
  },
  {
   "cell_type": "markdown",
   "metadata": {
    "id": "eu30340TfvrS"
   },
   "source": [
    "Try to use pandas to load the dataset \"dataset2.csv\", and process it following the instructrons in docstrings."
   ]
  },
  {
   "cell_type": "code",
   "execution_count": 4,
   "metadata": {
    "id": "Jwp1Gh2Tf2RH",
    "ExecuteTime": {
     "end_time": "2024-05-06T08:48:38.009473300Z",
     "start_time": "2024-05-06T08:48:36.500976700Z"
    }
   },
   "outputs": [],
   "source": [
    "import pandas as pd\n",
    "\n",
    "\n",
    "def load_data():\n",
    "    \"\"\"1. In this function, you should load the dataset named \"dataset2.csv\".\n",
    "      2. You need to remove the rows contain empty data.\n",
    "      Suppose the number of rows is ``R``.\n",
    "      3. You need to process the abnormal data that has \"_\".\n",
    "      For example, you should replace \"101_\" with \"101\".\n",
    "      4. You should calculate the average number of each column.\n",
    "      The outcome should be added to the original \"DataFrame\".\n",
    "      That means, the number of columns you return should be ``R+1``.\n",
    "    \n",
    "      Returns\n",
    "      -------\n",
    "      data: pandas.DataFrame\n",
    "        The processed data following the instructions.\n",
    "    \n",
    "      \"\"\"\n",
    "\n",
    "\n",
    "    # Your code here\n",
    "    #1.数据筛选\n",
    "    dataset = pd.read_csv('F:\\WorkSpace_PhD\\GammaLab_GNN\\dataset.csv')\n",
    "    csv_df = pd.DataFrame(dataset)\n",
    "    #2.首次检查是否有空值进行过滤\n",
    "    csv_df1 = csv_df.dropna(axis=0, how='any', inplace=False)  #浅复制，保留原数据，重新开辟存储空间\n",
    "    \n",
    "    #3.进行替换\n",
    "    csv_df1 = csv_df1.replace('_', '', regex=True)  #regex=True按照正则表达进行替换操作\n",
    "    #再次，检查是否有空值，将空值进行替换为Nan,再进行过滤\n",
    "    csv_df1.replace('', np.nan, inplace=True)\n",
    "    csv_df2 = csv_df1.dropna(axis=0, how='any', inplace=False)\n",
    "    csv_df2 = pd.DataFrame(csv_df2)\n",
    "    #重置索引，drop是删除原来的索引\n",
    "    csv_df2 = csv_df2.reset_index(drop=True)  #重置索引，drop参数为True是删除原来的索引\n",
    "    \n",
    "    #4.求每列的平均值\n",
    "    \n",
    "    mean_columns = []\n",
    "    \n",
    "    for c in csv_df2.columns:\n",
    "        # print(c)\n",
    "        sum_c = 0\n",
    "        for i in range(0, len(csv_df2[c])):\n",
    "            sum_c += float(csv_df2[c][i])\n",
    "        mean_c = sum_c / len(csv_df2[c])\n",
    "        mean_columns.append(mean_c)\n",
    "    print(mean_columns)\n",
    "  \n",
    "    #5.在末尾添加一行 用loc取行索引\n",
    "    csv_df2.loc[len(csv_df2.index)] = mean_columns\n",
    "    data = pd.DataFrame(csv_df2)\n",
    "# End code here\n",
    "    return data"
   ]
  },
  {
   "cell_type": "markdown",
   "metadata": {
    "id": "WmTdza14i3gr"
   },
   "source": [
    "After you implement these functions, you may run the following code to check your answer."
   ]
  },
  {
   "cell_type": "code",
   "execution_count": 5,
   "metadata": {
    "id": "-bqRtnnPi9Ki",
    "ExecuteTime": {
     "end_time": "2024-05-06T08:48:38.076147800Z",
     "start_time": "2024-05-06T08:48:38.013475Z"
    }
   },
   "outputs": [
    {
     "name": "stdout",
     "output_type": "stream",
     "text": [
      "True\n",
      "[293734.69663608586, 1.9938837920489296, 29.37308868501529, 9.994159021406727, 1739.4873700305807, 794.7617055919571, 388.9890611393579]\n",
      "[293734.69663608586 1.9938837920489296 29.37308868501529 9.994159021406727\n",
      " 1739.4873700305807 794.7617055919571 388.9890611393579] <class 'numpy.ndarray'>\n",
      "True\n"
     ]
    }
   ],
   "source": [
    "assert add(5,6) == 11\n",
    "assert add(3.2,1.0) == 4.2\n",
    "assert type(add(4., 4)) == float\n",
    "np.testing.assert_allclose(add(np.array([1,2]), np.array([3,4])),\n",
    "                np.array([4,6]))\n",
    "\n",
    "data = np.array([[2, 4, 6], [1, 3, 5], [3, 6, 9]])\n",
    "normalized_data = norm(data, axis=1)\n",
    "assert np.allclose(normalized_data, [[0.26726124, 0.53452248, 0.80178373],[0.16903085, 0.50709255, 0.84515425],[0.26726124, 0.53452248, 0.80178373]])\n",
    "print(np.allclose(normalized_data, [[0.26726124, 0.53452248, 0.80178373],[0.16903085, 0.50709255, 0.84515425],[0.26726124, 0.53452248, 0.80178373]]))\n",
    "data = load_data()\n",
    "assert len(data) == 328\n",
    "print(data.values[-1],type(data.values[-1]))\n",
    "# for column in data.columns:\n",
    "assert np.allclose(list(data.values[-1]), [293734.71875, 1.9938838481903076, 29.373088836669922,\n",
    "                      9.994159698486328, 1739.4874267578125, 794.76171875, 388.9890441894531])\n",
    "print(np.allclose(list(data.values[-1]), [293734.71875, 1.9938838481903076, 29.373088836669922,\n",
    "                      9.994159698486328, 1739.4874267578125, 794.76171875, 388.9890441894531]))\n",
    "\n",
    "    \n"
   ]
  },
  {
   "cell_type": "code",
   "execution_count": null,
   "metadata": {
    "collapsed": false,
    "is_executing": true
   },
   "outputs": [],
   "source": []
  },
  {
   "cell_type": "code",
   "execution_count": null,
   "metadata": {
    "collapsed": false
   },
   "outputs": [],
   "source": []
  }
 ],
 "metadata": {
  "colab": {
   "provenance": []
  },
  "kernelspec": {
   "display_name": "Python [conda env:GNN] *",
   "language": "python",
   "name": "conda-env-GNN-py"
  },
  "language_info": {
   "codemirror_mode": {
    "name": "ipython",
    "version": 3
   },
   "file_extension": ".py",
   "mimetype": "text/x-python",
   "name": "python",
   "nbconvert_exporter": "python",
   "pygments_lexer": "ipython3",
   "version": "3.11.5"
  }
 },
 "nbformat": 4,
 "nbformat_minor": 4
}
