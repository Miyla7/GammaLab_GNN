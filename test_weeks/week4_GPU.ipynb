{
 "nbformat": 4,
 "nbformat_minor": 0,
 "metadata": {
  "colab": {
   "provenance": []
  },
  "kernelspec": {
   "name": "python3",
   "language": "python",
   "display_name": "Python 3 (ipykernel)"
  },
  "language_info": {
   "name": "python"
  }
 },
 "cells": [
  {
   "cell_type": "markdown",
   "source": [
    "In this work, you are required to train a model for dataset MNIST with PyTorch."
   ],
   "metadata": {
    "id": "chi4omZLZbt4"
   }
  },
  {
   "cell_type": "markdown",
   "source": [
    "Load dataset:"
   ],
   "metadata": {
    "id": "jrA70ruIaN-A"
   }
  },
  {
   "cell_type": "code",
   "execution_count": 2,
   "outputs": [],
   "source": [
    "#need to set three item on GPU, such as the dataset (data and target), model, loss function  "
   ],
   "metadata": {
    "collapsed": false,
    "ExecuteTime": {
     "end_time": "2024-05-17T09:35:52.510690300Z",
     "start_time": "2024-05-17T09:35:52.444675300Z"
    }
   }
  },
  {
   "cell_type": "code",
   "execution_count": 3,
   "metadata": {
    "id": "dguqwltQ9TC4",
    "ExecuteTime": {
     "end_time": "2024-05-17T09:35:58.271517300Z",
     "start_time": "2024-05-17T09:35:52.458679200Z"
    }
   },
   "outputs": [],
   "source": [
    "import torchvision\n",
    "from torchaudio import transforms\n",
    "from torchvision.datasets import MNIST\n",
    "from torch.utils.data import DataLoader\n",
    "import torch\n",
    "import torch.nn as nn\n",
    "import torch.nn.functional as F\n",
    "#define the equipment to train\n",
    "device = torch.device(\"cuda\")\n",
    "\n",
    "#load the dataset of mnist\n",
    "train_data = MNIST(\n",
    "    root = \"data\",\n",
    "    download = True,\n",
    "    train = True,\n",
    "    transform = torchvision.transforms.ToTensor()\n",
    "    )\n",
    "test_data = MNIST(\n",
    "    root = \"data\",\n",
    "    download = True,\n",
    "    train = False,\n",
    "    transform = torchvision.transforms.ToTensor()\n",
    "    )\n",
    "\n",
    "train_dataloader = DataLoader(train_data, batch_size = 64)\n",
    "test_dataloader = DataLoader(test_data, batch_size = 64)"
   ]
  },
  {
   "cell_type": "code",
   "execution_count": 4,
   "outputs": [
    {
     "name": "stdout",
     "output_type": "stream",
     "text": [
      "tensor([5, 0, 4, 1, 9, 2, 1, 3, 1, 4, 3, 5, 3, 6, 1, 7, 2, 8, 6, 9, 4, 0, 9, 1,\n",
      "        1, 2, 4, 3, 2, 7, 3, 8, 6, 9, 0, 5, 6, 0, 7, 6, 1, 8, 7, 9, 3, 9, 8, 5,\n",
      "        9, 3, 3, 0, 7, 4, 9, 8, 0, 9, 4, 1, 4, 4, 6, 0])\n",
      "torch.Size([64, 1, 28, 28])\n"
     ]
    }
   ],
   "source": [
    "#check the dimension\n",
    "examples = enumerate(train_dataloader)\n",
    "batch_idx, (example_data, example_targets) = next(examples)\n",
    "print(example_targets)\n",
    "print(example_data.shape)"
   ],
   "metadata": {
    "collapsed": false,
    "ExecuteTime": {
     "end_time": "2024-05-17T09:35:58.324708900Z",
     "start_time": "2024-05-17T09:35:58.266516100Z"
    }
   }
  },
  {
   "cell_type": "code",
   "execution_count": 5,
   "outputs": [
    {
     "name": "stderr",
     "output_type": "stream",
     "text": [
      "C:\\Users\\13463666296\\AppData\\Local\\Temp\\ipykernel_29784\\2119449247.py:6: UserWarning: The figure layout has changed to tight\n",
      "  plt.tight_layout() #自动检查子图的坐标轴，标题和刻度标签\n"
     ]
    },
    {
     "data": {
      "text/plain": "<Figure size 640x480 with 6 Axes>",
      "image/png": "[encoded data removed]"
     },
     "metadata": {},
     "output_type": "display_data"
    }
   ],
   "source": [
    "#show some images of mnist\n",
    "import matplotlib.pyplot as plt\n",
    "fig = plt.figure()\n",
    "for i in range(6):\n",
    "  plt.subplot(2,3,i+1)\n",
    "  plt.tight_layout() #自动检查子图的坐标轴，标题和刻度标签\n",
    "  plt.imshow(example_data[i][0], cmap='gray', interpolation='none')\n",
    "  plt.title(\"Ground Truth: {}\".format(example_targets[i]))\n",
    "  plt.xticks([])\n",
    "  plt.yticks([])\n",
    "plt.show()"
   ],
   "metadata": {
    "collapsed": false,
    "ExecuteTime": {
     "end_time": "2024-05-17T09:35:59.477934600Z",
     "start_time": "2024-05-17T09:35:58.299125600Z"
    }
   }
  },
  {
   "cell_type": "markdown",
   "source": [
    "Model: you may select your favorite model and implement it in the following class."
   ],
   "metadata": {
    "id": "ovgrtfvNa-VF"
   }
  },
  {
   "cell_type": "code",
   "source": [
    "#define the network: the convolution and pool in the Convolution neural network should satisfy the computing rules, such the dimension of the H_out. The method of calculating is described in the doc of torch.       \n",
    "class Model(nn.Module):\n",
    "  # Your code here\n",
    "  def __init__(self):\n",
    "      super(Model,self).__init__()\n",
    "      #CIFAR 10 model\n",
    "      self.model = nn.Sequential(\n",
    "          nn.Conv2d(1,32,5,1,2),\n",
    "          nn.MaxPool2d(2),\n",
    "          nn.Conv2d(32,64,5,1,2),\n",
    "          nn.MaxPool2d(2),\n",
    "          nn.Flatten(),\n",
    "          nn.Linear(64*7*7,64),\n",
    "          nn.Linear(64,10)\n",
    "      )\n",
    "  def forward(self,x):\n",
    "      #img-->feature-->score_classes\n",
    "      x = self.model(x)\n",
    "      return x\n",
    "\n",
    "  # End code here"
   ],
   "metadata": {
    "id": "I_Bo3r3FbIWO",
    "ExecuteTime": {
     "end_time": "2024-05-17T09:35:59.516833600Z",
     "start_time": "2024-05-17T09:35:59.481986100Z"
    }
   },
   "execution_count": 6,
   "outputs": []
  },
  {
   "cell_type": "code",
   "execution_count": 7,
   "outputs": [
    {
     "name": "stdout",
     "output_type": "stream",
     "text": [
      "tensor([[ 0.1233,  0.0553,  0.0785, -0.0748,  0.0280, -0.0241, -0.0611, -0.0688,\n",
      "          0.1152,  0.0015]], grad_fn=<AddmmBackward0>) torch.Size([1, 10])\n"
     ]
    }
   ],
   "source": [
    "# give an example\n",
    "model = Model()\n",
    "input = torch.ones((1,1,28,28))\n",
    "output = model(input)     \n",
    "print(output,output.shape)\n"
   ],
   "metadata": {
    "collapsed": false,
    "ExecuteTime": {
     "end_time": "2024-05-17T09:35:59.536945900Z",
     "start_time": "2024-05-17T09:35:59.494120100Z"
    }
   }
  },
  {
   "cell_type": "markdown",
   "source": [
    "Evaluation: you need to implement a pipeline to train your neural network."
   ],
   "metadata": {
    "id": "F2IadIrIbU8V"
   }
  },
  {
   "cell_type": "code",
   "source": [
    "# train and test on CPU\n",
    "from torch.utils.tensorboard import SummaryWriter\n",
    "model = Model()\n",
    "# 1. put the model on GPU\n",
    "model = model.to(device) # method 1\n",
    "# if torch.cuda.is_available(): # method 2\n",
    "#     model = model.cuda()\n",
    "loss_func = nn.CrossEntropyLoss()\n",
    "# 2. put the loss function on GPU\n",
    "loss_func =loss_func.to(device)\n",
    "learn_rate = 1e-2\n",
    "optimizer = torch.optim.Adam(model.parameters(),lr=learn_rate)\n",
    "\n",
    "epochs = 100\n",
    "total_train_step = 0\n",
    "total_test_step = 0\n",
    "\n",
    "#add the tensorboard\n",
    "writer = SummaryWriter(\"../logs_train\")\n",
    "for epoch in range(epochs):\n",
    "  # Your code here\n",
    "  print(\"--------第{}轮训练开始-----\".format(epoch+1))\n",
    "  #start the train\n",
    "  model.train() # the \n",
    "  for data in train_dataloader:\n",
    "      imgs, targets = data\n",
    "      # imgs = imgs.convert(\"RGB\")\n",
    "      #3. put the data and target on GPU\n",
    "      imgs = imgs.to(device)\n",
    "      targets = targets.to(device)\n",
    "      \n",
    "      #calculating the output by the model class and calculating the loss by crossEntropy function \n",
    "      outputs = model(imgs)\n",
    "      loss = loss_func(outputs,targets)\n",
    "      \n",
    "      # to optimize\n",
    "      optimizer.zero_grad()       \n",
    "      loss.backward() \n",
    "      optimizer.step() #update the grad\n",
    "      \n",
    "      total_train_step = total_train_step + 1\n",
    "      if total_train_step %100 == 0: \n",
    "        print(\"训练次数：{}，loss:{}\".format(total_train_step,loss.item()))\n",
    "        writer.add_scalar(\"train_loss\",loss.item(),total_train_step)\n",
    "  #start the test\n",
    "  model.eval()\n",
    "  total_test_loss = 0\n",
    "  total_accuracy = 0\n",
    "  with torch.no_grad():\n",
    "      for data in test_dataloader:\n",
    "          imgs, targets = data\n",
    "          imgs = imgs.to(device)\n",
    "          targets = targets.to(device)\n",
    "          outputs = model(imgs)\n",
    "          loss = loss_func(outputs,targets)\n",
    "          total_test_loss = total_test_loss + loss.item()\n",
    "          accuracy = (outputs.argmax(1) == targets).sum()\n",
    "          total_accuracy = total_accuracy + accuracy\n",
    "          \n",
    "  print(\"整体测试集上的Loss：{}\".format(total_test_loss))\n",
    "  print(\"整体的正确率:{}\".format(total_accuracy/len(test_dataloader)))\n",
    "  total_test_step = total_test_step + 1\n",
    "  writer.add_scalar(\"test_loss\",loss.item(),total_test_step)\n",
    "  writer.add_scalar(\"acc\",total_accuracy/len(test_dataloader),total_test_step)\n",
    "  torch.save(model,\"./model_save/model_mnist_{}.pth\".format(epoch))\n",
    "  print(\"模型已保存\")\n",
    "writer.close()\n",
    "      \n",
    "  # End code here"
   ],
   "metadata": {
    "id": "0RKqr0UebjDf",
    "ExecuteTime": {
     "end_time": "2024-05-17T12:47:56.037453800Z",
     "start_time": "2024-05-17T12:47:40.018303200Z"
    }
   },
   "execution_count": 12,
   "outputs": [
    {
     "name": "stdout",
     "output_type": "stream",
     "text": [
      "--------第1轮训练开始-----\n",
      "训练次数：100，loss:0.2148481160402298\n",
      "训练次数：200，loss:0.15477855503559113\n",
      "训练次数：300，loss:0.16831853985786438\n",
      "训练次数：400，loss:0.32520565390586853\n",
      "训练次数：500，loss:0.30237361788749695\n",
      "训练次数：600，loss:0.13863657414913177\n",
      "训练次数：700，loss:0.26564523577690125\n",
      "训练次数：800，loss:0.3787654638290405\n",
      "训练次数：900，loss:1.46573805809021\n",
      "整体测试集上的Loss：11122.97951889038\n",
      "整体的正确率:43.50955581665039\n",
      "模型已保存\n",
      "--------第2轮训练开始-----\n",
      "训练次数：1000，loss:50.99159622192383\n",
      "训练次数：1100，loss:0.36925506591796875\n",
      "训练次数：1200，loss:7.7446746826171875\n",
      "训练次数：1300，loss:6.737908363342285\n"
     ]
    },
    {
     "ename": "KeyboardInterrupt",
     "evalue": "",
     "output_type": "error",
     "traceback": [
      "\u001B[1;31m---------------------------------------------------------------------------\u001B[0m",
      "\u001B[1;31mKeyboardInterrupt\u001B[0m                         Traceback (most recent call last)",
      "Cell \u001B[1;32mIn[12], line 25\u001B[0m\n\u001B[0;32m     23\u001B[0m \u001B[38;5;66;03m#start the train\u001B[39;00m\n\u001B[0;32m     24\u001B[0m model\u001B[38;5;241m.\u001B[39mtrain() \u001B[38;5;66;03m# the \u001B[39;00m\n\u001B[1;32m---> 25\u001B[0m \u001B[38;5;28;01mfor\u001B[39;00m data \u001B[38;5;129;01min\u001B[39;00m train_dataloader:\n\u001B[0;32m     26\u001B[0m     imgs, targets \u001B[38;5;241m=\u001B[39m data\n\u001B[0;32m     27\u001B[0m     \u001B[38;5;66;03m# imgs = imgs.convert(\"RGB\")\u001B[39;00m\n\u001B[0;32m     28\u001B[0m     \u001B[38;5;66;03m#3. put the data and target on GPU\u001B[39;00m\n",
      "File \u001B[1;32mF:\\Anaconda\\envs\\HMCAN\\lib\\site-packages\\torch\\utils\\data\\dataloader.py:630\u001B[0m, in \u001B[0;36m_BaseDataLoaderIter.__next__\u001B[1;34m(self)\u001B[0m\n\u001B[0;32m    627\u001B[0m \u001B[38;5;28;01mif\u001B[39;00m \u001B[38;5;28mself\u001B[39m\u001B[38;5;241m.\u001B[39m_sampler_iter \u001B[38;5;129;01mis\u001B[39;00m \u001B[38;5;28;01mNone\u001B[39;00m:\n\u001B[0;32m    628\u001B[0m     \u001B[38;5;66;03m# TODO(https://github.com/pytorch/pytorch/issues/76750)\u001B[39;00m\n\u001B[0;32m    629\u001B[0m     \u001B[38;5;28mself\u001B[39m\u001B[38;5;241m.\u001B[39m_reset()  \u001B[38;5;66;03m# type: ignore[call-arg]\u001B[39;00m\n\u001B[1;32m--> 630\u001B[0m data \u001B[38;5;241m=\u001B[39m \u001B[38;5;28;43mself\u001B[39;49m\u001B[38;5;241;43m.\u001B[39;49m\u001B[43m_next_data\u001B[49m\u001B[43m(\u001B[49m\u001B[43m)\u001B[49m\n\u001B[0;32m    631\u001B[0m \u001B[38;5;28mself\u001B[39m\u001B[38;5;241m.\u001B[39m_num_yielded \u001B[38;5;241m+\u001B[39m\u001B[38;5;241m=\u001B[39m \u001B[38;5;241m1\u001B[39m\n\u001B[0;32m    632\u001B[0m \u001B[38;5;28;01mif\u001B[39;00m \u001B[38;5;28mself\u001B[39m\u001B[38;5;241m.\u001B[39m_dataset_kind \u001B[38;5;241m==\u001B[39m _DatasetKind\u001B[38;5;241m.\u001B[39mIterable \u001B[38;5;129;01mand\u001B[39;00m \\\n\u001B[0;32m    633\u001B[0m         \u001B[38;5;28mself\u001B[39m\u001B[38;5;241m.\u001B[39m_IterableDataset_len_called \u001B[38;5;129;01mis\u001B[39;00m \u001B[38;5;129;01mnot\u001B[39;00m \u001B[38;5;28;01mNone\u001B[39;00m \u001B[38;5;129;01mand\u001B[39;00m \\\n\u001B[0;32m    634\u001B[0m         \u001B[38;5;28mself\u001B[39m\u001B[38;5;241m.\u001B[39m_num_yielded \u001B[38;5;241m>\u001B[39m \u001B[38;5;28mself\u001B[39m\u001B[38;5;241m.\u001B[39m_IterableDataset_len_called:\n",
      "File \u001B[1;32mF:\\Anaconda\\envs\\HMCAN\\lib\\site-packages\\torch\\utils\\data\\dataloader.py:674\u001B[0m, in \u001B[0;36m_SingleProcessDataLoaderIter._next_data\u001B[1;34m(self)\u001B[0m\n\u001B[0;32m    672\u001B[0m \u001B[38;5;28;01mdef\u001B[39;00m \u001B[38;5;21m_next_data\u001B[39m(\u001B[38;5;28mself\u001B[39m):\n\u001B[0;32m    673\u001B[0m     index \u001B[38;5;241m=\u001B[39m \u001B[38;5;28mself\u001B[39m\u001B[38;5;241m.\u001B[39m_next_index()  \u001B[38;5;66;03m# may raise StopIteration\u001B[39;00m\n\u001B[1;32m--> 674\u001B[0m     data \u001B[38;5;241m=\u001B[39m \u001B[38;5;28;43mself\u001B[39;49m\u001B[38;5;241;43m.\u001B[39;49m\u001B[43m_dataset_fetcher\u001B[49m\u001B[38;5;241;43m.\u001B[39;49m\u001B[43mfetch\u001B[49m\u001B[43m(\u001B[49m\u001B[43mindex\u001B[49m\u001B[43m)\u001B[49m  \u001B[38;5;66;03m# may raise StopIteration\u001B[39;00m\n\u001B[0;32m    675\u001B[0m     \u001B[38;5;28;01mif\u001B[39;00m \u001B[38;5;28mself\u001B[39m\u001B[38;5;241m.\u001B[39m_pin_memory:\n\u001B[0;32m    676\u001B[0m         data \u001B[38;5;241m=\u001B[39m _utils\u001B[38;5;241m.\u001B[39mpin_memory\u001B[38;5;241m.\u001B[39mpin_memory(data, \u001B[38;5;28mself\u001B[39m\u001B[38;5;241m.\u001B[39m_pin_memory_device)\n",
      "File \u001B[1;32mF:\\Anaconda\\envs\\HMCAN\\lib\\site-packages\\torch\\utils\\data\\_utils\\fetch.py:51\u001B[0m, in \u001B[0;36m_MapDatasetFetcher.fetch\u001B[1;34m(self, possibly_batched_index)\u001B[0m\n\u001B[0;32m     49\u001B[0m         data \u001B[38;5;241m=\u001B[39m \u001B[38;5;28mself\u001B[39m\u001B[38;5;241m.\u001B[39mdataset\u001B[38;5;241m.\u001B[39m__getitems__(possibly_batched_index)\n\u001B[0;32m     50\u001B[0m     \u001B[38;5;28;01melse\u001B[39;00m:\n\u001B[1;32m---> 51\u001B[0m         data \u001B[38;5;241m=\u001B[39m [\u001B[38;5;28mself\u001B[39m\u001B[38;5;241m.\u001B[39mdataset[idx] \u001B[38;5;28;01mfor\u001B[39;00m idx \u001B[38;5;129;01min\u001B[39;00m possibly_batched_index]\n\u001B[0;32m     52\u001B[0m \u001B[38;5;28;01melse\u001B[39;00m:\n\u001B[0;32m     53\u001B[0m     data \u001B[38;5;241m=\u001B[39m \u001B[38;5;28mself\u001B[39m\u001B[38;5;241m.\u001B[39mdataset[possibly_batched_index]\n",
      "File \u001B[1;32mF:\\Anaconda\\envs\\HMCAN\\lib\\site-packages\\torch\\utils\\data\\_utils\\fetch.py:51\u001B[0m, in \u001B[0;36m<listcomp>\u001B[1;34m(.0)\u001B[0m\n\u001B[0;32m     49\u001B[0m         data \u001B[38;5;241m=\u001B[39m \u001B[38;5;28mself\u001B[39m\u001B[38;5;241m.\u001B[39mdataset\u001B[38;5;241m.\u001B[39m__getitems__(possibly_batched_index)\n\u001B[0;32m     50\u001B[0m     \u001B[38;5;28;01melse\u001B[39;00m:\n\u001B[1;32m---> 51\u001B[0m         data \u001B[38;5;241m=\u001B[39m [\u001B[38;5;28;43mself\u001B[39;49m\u001B[38;5;241;43m.\u001B[39;49m\u001B[43mdataset\u001B[49m\u001B[43m[\u001B[49m\u001B[43midx\u001B[49m\u001B[43m]\u001B[49m \u001B[38;5;28;01mfor\u001B[39;00m idx \u001B[38;5;129;01min\u001B[39;00m possibly_batched_index]\n\u001B[0;32m     52\u001B[0m \u001B[38;5;28;01melse\u001B[39;00m:\n\u001B[0;32m     53\u001B[0m     data \u001B[38;5;241m=\u001B[39m \u001B[38;5;28mself\u001B[39m\u001B[38;5;241m.\u001B[39mdataset[possibly_batched_index]\n",
      "File \u001B[1;32mF:\\Anaconda\\envs\\HMCAN\\lib\\site-packages\\torchvision\\datasets\\mnist.py:145\u001B[0m, in \u001B[0;36mMNIST.__getitem__\u001B[1;34m(self, index)\u001B[0m\n\u001B[0;32m    142\u001B[0m img \u001B[38;5;241m=\u001B[39m Image\u001B[38;5;241m.\u001B[39mfromarray(img\u001B[38;5;241m.\u001B[39mnumpy(), mode\u001B[38;5;241m=\u001B[39m\u001B[38;5;124m\"\u001B[39m\u001B[38;5;124mL\u001B[39m\u001B[38;5;124m\"\u001B[39m)\n\u001B[0;32m    144\u001B[0m \u001B[38;5;28;01mif\u001B[39;00m \u001B[38;5;28mself\u001B[39m\u001B[38;5;241m.\u001B[39mtransform \u001B[38;5;129;01mis\u001B[39;00m \u001B[38;5;129;01mnot\u001B[39;00m \u001B[38;5;28;01mNone\u001B[39;00m:\n\u001B[1;32m--> 145\u001B[0m     img \u001B[38;5;241m=\u001B[39m \u001B[38;5;28;43mself\u001B[39;49m\u001B[38;5;241;43m.\u001B[39;49m\u001B[43mtransform\u001B[49m\u001B[43m(\u001B[49m\u001B[43mimg\u001B[49m\u001B[43m)\u001B[49m\n\u001B[0;32m    147\u001B[0m \u001B[38;5;28;01mif\u001B[39;00m \u001B[38;5;28mself\u001B[39m\u001B[38;5;241m.\u001B[39mtarget_transform \u001B[38;5;129;01mis\u001B[39;00m \u001B[38;5;129;01mnot\u001B[39;00m \u001B[38;5;28;01mNone\u001B[39;00m:\n\u001B[0;32m    148\u001B[0m     target \u001B[38;5;241m=\u001B[39m \u001B[38;5;28mself\u001B[39m\u001B[38;5;241m.\u001B[39mtarget_transform(target)\n",
      "File \u001B[1;32mF:\\Anaconda\\envs\\HMCAN\\lib\\site-packages\\torchvision\\transforms\\transforms.py:137\u001B[0m, in \u001B[0;36mToTensor.__call__\u001B[1;34m(self, pic)\u001B[0m\n\u001B[0;32m    129\u001B[0m \u001B[38;5;28;01mdef\u001B[39;00m \u001B[38;5;21m__call__\u001B[39m(\u001B[38;5;28mself\u001B[39m, pic):\n\u001B[0;32m    130\u001B[0m \u001B[38;5;250m    \u001B[39m\u001B[38;5;124;03m\"\"\"\u001B[39;00m\n\u001B[0;32m    131\u001B[0m \u001B[38;5;124;03m    Args:\u001B[39;00m\n\u001B[0;32m    132\u001B[0m \u001B[38;5;124;03m        pic (PIL Image or numpy.ndarray): Image to be converted to tensor.\u001B[39;00m\n\u001B[1;32m   (...)\u001B[0m\n\u001B[0;32m    135\u001B[0m \u001B[38;5;124;03m        Tensor: Converted image.\u001B[39;00m\n\u001B[0;32m    136\u001B[0m \u001B[38;5;124;03m    \"\"\"\u001B[39;00m\n\u001B[1;32m--> 137\u001B[0m     \u001B[38;5;28;01mreturn\u001B[39;00m \u001B[43mF\u001B[49m\u001B[38;5;241;43m.\u001B[39;49m\u001B[43mto_tensor\u001B[49m\u001B[43m(\u001B[49m\u001B[43mpic\u001B[49m\u001B[43m)\u001B[49m\n",
      "File \u001B[1;32mF:\\Anaconda\\envs\\HMCAN\\lib\\site-packages\\torchvision\\transforms\\functional.py:170\u001B[0m, in \u001B[0;36mto_tensor\u001B[1;34m(pic)\u001B[0m\n\u001B[0;32m    168\u001B[0m \u001B[38;5;28;01mif\u001B[39;00m pic\u001B[38;5;241m.\u001B[39mmode \u001B[38;5;241m==\u001B[39m \u001B[38;5;124m\"\u001B[39m\u001B[38;5;124m1\u001B[39m\u001B[38;5;124m\"\u001B[39m:\n\u001B[0;32m    169\u001B[0m     img \u001B[38;5;241m=\u001B[39m \u001B[38;5;241m255\u001B[39m \u001B[38;5;241m*\u001B[39m img\n\u001B[1;32m--> 170\u001B[0m img \u001B[38;5;241m=\u001B[39m \u001B[43mimg\u001B[49m\u001B[38;5;241;43m.\u001B[39;49m\u001B[43mview\u001B[49m\u001B[43m(\u001B[49m\u001B[43mpic\u001B[49m\u001B[38;5;241;43m.\u001B[39;49m\u001B[43msize\u001B[49m\u001B[43m[\u001B[49m\u001B[38;5;241;43m1\u001B[39;49m\u001B[43m]\u001B[49m\u001B[43m,\u001B[49m\u001B[43m \u001B[49m\u001B[43mpic\u001B[49m\u001B[38;5;241;43m.\u001B[39;49m\u001B[43msize\u001B[49m\u001B[43m[\u001B[49m\u001B[38;5;241;43m0\u001B[39;49m\u001B[43m]\u001B[49m\u001B[43m,\u001B[49m\u001B[43m \u001B[49m\u001B[43mF_pil\u001B[49m\u001B[38;5;241;43m.\u001B[39;49m\u001B[43mget_image_num_channels\u001B[49m\u001B[43m(\u001B[49m\u001B[43mpic\u001B[49m\u001B[43m)\u001B[49m\u001B[43m)\u001B[49m\n\u001B[0;32m    171\u001B[0m \u001B[38;5;66;03m# put it from HWC to CHW format\u001B[39;00m\n\u001B[0;32m    172\u001B[0m img \u001B[38;5;241m=\u001B[39m img\u001B[38;5;241m.\u001B[39mpermute((\u001B[38;5;241m2\u001B[39m, \u001B[38;5;241m0\u001B[39m, \u001B[38;5;241m1\u001B[39m))\u001B[38;5;241m.\u001B[39mcontiguous()\n",
      "\u001B[1;31mKeyboardInterrupt\u001B[0m: "
     ]
    }
   ]
  },
  {
   "cell_type": "code",
   "execution_count": 9,
   "outputs": [],
   "source": [
    "#an example of tensorboard \n",
    "from torch.utils.tensorboard import SummaryWriter\n",
    "from PIL import Image\n",
    "from torchvision import transforms\n",
    "img_path = '../results/line.png'\n",
    "img = Image.open(img_path)\n",
    "tran = transforms.ToTensor()\n",
    "# img.show()\n",
    "writer = SummaryWriter('logs')\n",
    "tensor_trans = transforms.ToTensor()\n",
    "tensor_img = tensor_trans(img)\n",
    "writer.add_image(\"tensor_img\", tensor_img)\n",
    "writer.close()\n"
   ],
   "metadata": {
    "collapsed": false,
    "ExecuteTime": {
     "end_time": "2024-05-17T10:20:42.469380500Z",
     "start_time": "2024-05-17T10:20:42.375294600Z"
    }
   }
  },
  {
   "cell_type": "code",
   "execution_count": 10,
   "outputs": [
    {
     "data": {
      "text/plain": "6"
     },
     "execution_count": 10,
     "metadata": {},
     "output_type": "execute_result"
    }
   ],
   "source": [
    "# 类中初始化函数和构造函数的定义与调用\n",
    "class Box:\n",
    "    def setDimension(self,width,height,depth):\n",
    "        self.width = width\n",
    "        self.height = height\n",
    "        self.depth = depth\n",
    "    def getVolume(self):\n",
    "        return self.height*self.width*self.depth\n",
    "b = Box()\n",
    "b.setDimension(1,2,3)\n",
    "b.getVolume()"
   ],
   "metadata": {
    "collapsed": false,
    "ExecuteTime": {
     "end_time": "2024-05-17T10:20:45.027232600Z",
     "start_time": "2024-05-17T10:20:44.875304100Z"
    }
   }
  },
  {
   "cell_type": "code",
   "execution_count": null,
   "outputs": [],
   "source": [],
   "metadata": {
    "collapsed": false
   }
  }
 ]
}
