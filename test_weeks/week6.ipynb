{
 "nbformat": 4,
 "nbformat_minor": 0,
 "metadata": {
  "colab": {
   "provenance": []
  },
  "kernelspec": {
   "name": "python3",
   "language": "python",
   "display_name": "Python 3 (ipykernel)"
  },
  "language_info": {
   "name": "python"
  }
 },
 "cells": [
  {
   "cell_type": "markdown",
   "source": [
    "In this week, you are required to implement a toy GATConv and SAGEConv based on document. Also, you need to implement both in PyG and DGL. In this work, you will get a further understanding of tensor-centric in PyG and graph-centric in DGL."
   ],
   "metadata": {
    "id": "YqM5Z7qKUgqS"
   }
  },
  {
   "cell_type": "code",
   "source": [
    "# !pip install  dgl -f https://data.dgl.ai/wheels/repo.html\n",
    "# !pip install torch_geometric\n",
    "# !pip install pyg_lib torch_scatter torch_sparse torch_cluster torch_spline_conv -f https://data.pyg.org/whl/torch-2.0.1+cpu.html"
   ],
   "metadata": {
    "id": "xeuAiMpRU719",
    "ExecuteTime": {
     "end_time": "2024-06-03T08:44:23.291178400Z",
     "start_time": "2024-06-03T08:44:02.305934600Z"
    }
   },
   "execution_count": 7,
   "outputs": [
    {
     "name": "stdout",
     "output_type": "stream",
     "text": [
      "Defaulting to user installation because normal site-packages is not writeable\n",
      "Looking in indexes: https://pypi.tuna.tsinghua.edu.cn/simple\n",
      "Looking in links: https://data.dgl.ai/wheels/repo.html\n",
      "Requirement already satisfied: dgl in f:\\anaconda\\envs\\hmcan\\lib\\site-packages (1.1.2)\n",
      "Requirement already satisfied: numpy>=1.14.0 in c:\\users\\13463666296\\appdata\\roaming\\python\\python38\\site-packages (from dgl) (1.21.0)\n",
      "Requirement already satisfied: scipy>=1.1.0 in c:\\users\\13463666296\\appdata\\roaming\\python\\python38\\site-packages (from dgl) (1.4.1)\n",
      "Requirement already satisfied: networkx>=2.1 in f:\\anaconda\\envs\\hmcan\\lib\\site-packages (from dgl) (3.0)\n",
      "Requirement already satisfied: requests>=2.19.0 in f:\\anaconda\\envs\\hmcan\\lib\\site-packages (from dgl) (2.28.1)\n",
      "Requirement already satisfied: tqdm in f:\\anaconda\\envs\\hmcan\\lib\\site-packages (from dgl) (4.65.0)\n",
      "Requirement already satisfied: psutil>=5.8.0 in f:\\anaconda\\envs\\hmcan\\lib\\site-packages (from dgl) (5.9.0)\n",
      "Requirement already satisfied: charset-normalizer<3,>=2 in f:\\anaconda\\envs\\hmcan\\lib\\site-packages (from requests>=2.19.0->dgl) (2.0.4)\n",
      "Requirement already satisfied: idna<4,>=2.5 in f:\\anaconda\\envs\\hmcan\\lib\\site-packages (from requests>=2.19.0->dgl) (3.4)\n",
      "Requirement already satisfied: urllib3<1.27,>=1.21.1 in f:\\anaconda\\envs\\hmcan\\lib\\site-packages (from requests>=2.19.0->dgl) (1.26.13)\n",
      "Requirement already satisfied: certifi>=2017.4.17 in f:\\anaconda\\envs\\hmcan\\lib\\site-packages (from requests>=2.19.0->dgl) (2022.12.7)\n",
      "Requirement already satisfied: colorama in f:\\anaconda\\envs\\hmcan\\lib\\site-packages (from tqdm->dgl) (0.4.6)\n",
      "Could not fetch URL https://data.dgl.ai/wheels/repo.html: There was a problem confirming the ssl certificate: HTTPSConnectionPool(host='data.dgl.ai', port=443): Max retries exceeded with url: /wheels/repo.html (Caused by SSLError(SSLZeroReturnError(6, 'TLS/SSL connection has been closed (EOF) (_ssl.c:1131)'))) - skipping\n",
      "Could not fetch URL https://pypi.tuna.tsinghua.edu.cn/simple/pip/: There was a problem confirming the ssl certificate: HTTPSConnectionPool(host='pypi.tuna.tsinghua.edu.cn', port=443): Max retries exceeded with url: /simple/pip/ (Caused by SSLError(SSLZeroReturnError(6, 'TLS/SSL connection has been closed (EOF) (_ssl.c:1131)'))) - skipping\n"
     ]
    },
    {
     "name": "stderr",
     "output_type": "stream",
     "text": [
      "DEPRECATION: matlabengineforpython R2021b has a non-standard version number. pip 24.0 will enforce this behaviour change. A possible replacement is to upgrade to a newer version of matlabengineforpython or contact the author to suggest that they release a version with a conforming version number. Discussion can be found at https://github.com/pypa/pip/issues/12063\n"
     ]
    },
    {
     "name": "stdout",
     "output_type": "stream",
     "text": [
      "^C\n",
      "^C\n"
     ]
    }
   ]
  },
  {
   "cell_type": "code",
   "execution_count": 11,
   "metadata": {
    "id": "mclJkxgsUbRY",
    "ExecuteTime": {
     "end_time": "2024-06-03T08:44:47.444095Z",
     "start_time": "2024-06-03T08:44:47.426091500Z"
    }
   },
   "outputs": [],
   "source": [
    "import torch\n",
    "import numpy as np\n",
    "import torch.nn as nn\n",
    "import dgl\n",
    "import dgl.function as fn\n",
    "from torch_geometric.nn.conv import MessagePassing\n",
    "from torch_geometric.utils import add_self_loops, degree\n",
    "from torch_geometric.utils import softmax\n",
    "\n",
    "class PyG_GATConv(MessagePassing):\n",
    "    def __init__(self, in_channels: int, out_channels: int):\n",
    "        super().__init__(aggr='add')  # \"Addition\" aggregation.\n",
    "        self.in_channels = in_channels\n",
    "        self.out_channels = out_channels\n",
    "\n",
    "        self.lin = torch.nn.Linear(in_channels, out_channels, bias=False)\n",
    "        self.att = torch.nn.Linear(2 * out_channels, 1, bias=False)\n",
    "        self.act = torch.nn.LeakyReLU() # not a real layer, just for activation\n",
    "\n",
    "    def forward(self, x, edge_index):\n",
    "        x = self.lin(x)\n",
    "        # compute attention coefficients based on edge features e_ij\n",
    "        edge_attr = torch.cat([x[edge_index[0]], x[edge_index[1]]], dim=-1)\n",
    "        edge_attr = self.act(self.att(edge_attr))\n",
    "        \n",
    "        # alpha_ij is the normalized attention scores\n",
    "        alpha = softmax(edge_attr, edge_index[1])\n",
    "        \n",
    "        # calc message passing with attention scores\n",
    "        out = self.propagate(edge_index, x=x, alpha=alpha)\n",
    "        \n",
    "        return out\n",
    "\n",
    "    def message(self, x_j, alpha):\n",
    "        # x_j is the input node features, alpha is the attention scores as weights\n",
    "        return alpha * x_j\n",
    "\n",
    "\n",
    "\n",
    "class PyG_SAGEConv(MessagePassing):\n",
    "    def __init__(self, in_channels, out_channels):\n",
    "        super(PyG_SAGEConv, self).__init__(aggr='mean')  # \"mean\"\n",
    "        self.lin = torch.nn.Linear(in_channels, out_channels)\n",
    "        self.act = torch.nn.ReLU()\n",
    "\n",
    "    def forward(self, x, edge_index):\n",
    "        edge_index, _ = add_self_loops(edge_index, num_nodes=x.size(0))\n",
    "\n",
    "        row, col = edge_index\n",
    "        deg = degree(col, x.size(0), dtype=x.dtype)\n",
    "        deg_inv_sqrt = deg.pow(-0.5)\n",
    "        norm = deg_inv_sqrt[row] * deg_inv_sqrt[col]\n",
    "\n",
    "        return self.propagate(edge_index, x=x, norm=norm)\n",
    "\n",
    "    def message(self, x_j, norm):\n",
    "        return norm.view(-1, 1) * x_j\n",
    "\n",
    "    def update(self, aggr_out):\n",
    "        return self.act(self.lin(aggr_out))"
   ]
  },
  {
   "cell_type": "code",
   "source": [
    "class DGL_GATConv(nn.Module):\n",
    "    def __init__(self, in_feats, out_feats):\n",
    "        super(DGL_GATConv, self).__init__()\n",
    "        self.fc = nn.Linear(in_feats, out_feats, bias=False)\n",
    "        self.attn_fc = nn.Linear(2 * out_feats, 1, bias=False)\n",
    "        self.reset_parameters()\n",
    "\n",
    "    def reset_parameters(self):\n",
    "        gain = nn.init.calculate_gain('relu')\n",
    "        nn.init.xavier_uniform_(self.fc.weight, gain=gain)\n",
    "        nn.init.xavier_uniform_(self.attn_fc.weight, gain=gain)\n",
    "\n",
    "    def edge_attention(self, edges):\n",
    "        z2 = torch.cat([edges.src['z'], edges.dst['z']], dim=1)\n",
    "        a = self.attn_fc(z2)\n",
    "        return {'e': a}\n",
    "\n",
    "    def message_func(self, edges):\n",
    "        return {'z': edges.src['z'], 'e': edges.data['e']}\n",
    "\n",
    "    def reduce_func(self, nodes):\n",
    "        alpha = torch.softmax(nodes.mailbox['e'], dim=1)\n",
    "        h = torch.sum(alpha * nodes.mailbox['z'], dim=1)\n",
    "        return {'h': h}\n",
    "\n",
    "    def forward(self, g, x):\n",
    "        z = self.fc(x)\n",
    "        g.ndata['z'] = z\n",
    "        g.apply_edges(self.edge_attention)\n",
    "        g.update_all(self.message_func, self.reduce_func)\n",
    "        return g.ndata.pop('h')\n",
    "\n",
    "\n",
    "class DGL_SAGEConv(nn.Module):\n",
    "    def __init__(self, in_channels: int, out_channels: int):\n",
    "        super().__init__()\n",
    "        self.fc = nn.Linear(in_channels * 2, out_channels)\n",
    "        self.act = nn.ReLU()\n",
    "\n",
    "    def forward(self, g: dgl.DGLGraph, h: torch.Tensor) -> torch.Tensor:\n",
    "        with g.local_scope():\n",
    "            g.ndata['h'] = h\n",
    "            g.update_all(fn.copy_u('h', 'm'), fn.mean('m', 'neigh'))\n",
    "            neigh = g.ndata['neigh']\n",
    "            return self.act(self.fc(torch.cat([h, neigh], dim=1)))"
   ],
   "metadata": {
    "id": "HbdLhvBSVYEr",
    "ExecuteTime": {
     "end_time": "2024-06-03T08:44:48.929270Z",
     "start_time": "2024-06-03T08:44:48.909290400Z"
    }
   },
   "execution_count": 12,
   "outputs": []
  },
  {
   "cell_type": "markdown",
   "source": [
    "If you want to check your answer, you can run the following code."
   ],
   "metadata": {
    "id": "G955HzNxVjSu"
   }
  },
  {
   "cell_type": "code",
   "source": [
    "edge_index = torch.tensor([[0,1,1,2,2,4],[2,0,2,3,4,3]])\n",
    "x = torch.ones((5, 8))\n",
    "conv = PyG_GATConv(8, 4)\n",
    "output = conv(x, edge_index)\n",
    "print(output)\n",
    "conv = PyG_SAGEConv(8, 4)\n",
    "output = conv(x, edge_index)\n",
    "print(output)\n",
    "\n",
    "src = torch.tensor([0, 1, 1, 2, 2, 4])\n",
    "dst = torch.tensor([2, 0, 2, 3, 4, 3])\n",
    "h = torch.ones((5, 8))\n",
    "g = dgl.graph((src, dst))\n",
    "conv = DGL_GATConv(8, 4)\n",
    "output = conv(g, h)\n",
    "print(output)\n",
    "conv = DGL_SAGEConv(8, 4)\n",
    "output = conv(g, h)\n",
    "print(output)"
   ],
   "metadata": {
    "id": "PKgfXLyLVwus",
    "ExecuteTime": {
     "end_time": "2024-06-03T08:44:50.559130800Z",
     "start_time": "2024-06-03T08:44:50.526612Z"
    }
   },
   "execution_count": 13,
   "outputs": [
    {
     "name": "stdout",
     "output_type": "stream",
     "text": [
      "tensor([[0.4891, 0.2247, 0.0578, 0.2553],\n",
      "        [0.0000, 0.0000, 0.0000, 0.0000],\n",
      "        [0.4891, 0.2247, 0.0578, 0.2553],\n",
      "        [0.4891, 0.2247, 0.0578, 0.2553],\n",
      "        [0.4891, 0.2247, 0.0578, 0.2553]], grad_fn=<ScatterAddBackward0>)\n",
      "tensor([[0.0000, 0.0000, 0.0000, 0.4698],\n",
      "        [0.0535, 0.0000, 0.0000, 0.5607],\n",
      "        [0.0000, 0.0000, 0.0000, 0.4322],\n",
      "        [0.0000, 0.0110, 0.0000, 0.4136],\n",
      "        [0.0000, 0.0000, 0.0000, 0.4356]], grad_fn=<ReluBackward0>)\n",
      "tensor([[-2.5431, -1.1511,  0.5339,  3.7166],\n",
      "        [ 0.0000,  0.0000,  0.0000,  0.0000],\n",
      "        [-2.5431, -1.1511,  0.5339,  3.7166],\n",
      "        [-2.5431, -1.1511,  0.5339,  3.7166],\n",
      "        [-2.5431, -1.1511,  0.5339,  3.7166]], grad_fn=<IndexCopyBackward0>)\n",
      "tensor([[0.2385, 0.5614, 0.0000, 0.0000],\n",
      "        [0.0000, 0.2318, 0.0000, 0.0000],\n",
      "        [0.2385, 0.5614, 0.0000, 0.0000],\n",
      "        [0.2385, 0.5614, 0.0000, 0.0000],\n",
      "        [0.2385, 0.5614, 0.0000, 0.0000]], grad_fn=<ReluBackward0>)\n"
     ]
    }
   ]
  },
  {
   "cell_type": "code",
   "execution_count": 10,
   "outputs": [],
   "source": [],
   "metadata": {
    "collapsed": false,
    "ExecuteTime": {
     "end_time": "2024-06-03T08:44:23.387174900Z",
     "start_time": "2024-06-03T08:44:23.372960500Z"
    }
   }
  }
 ]
}
