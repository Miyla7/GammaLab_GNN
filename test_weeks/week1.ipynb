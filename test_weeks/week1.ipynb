{
 "nbformat": 4,
 "nbformat_minor": 0,
 "metadata": {
  "colab": {
   "provenance": [],
   "gpuType": "T4"
  },
  "kernelspec": {
   "name": "conda-env-GNN-py",
   "language": "python",
   "display_name": "Python [conda env:GNN] *"
  },
  "language_info": {
   "name": "python"
  },
  "accelerator": "GPU"
 },
 "cells": [
  {
   "cell_type": "markdown",
   "source": [
    "## Week1 Parctice\n",
    "\n",
    "The goal of this work is to give you a quick overview of Python implementations.\n",
    "\n",
    "To get started, **make a copy of this notebook** file by selecting \"Download $\\rightarrow$ Download.ipynb \" from the \"File\" menu, and then check the instructions and finish the work."
   ],
   "metadata": {
    "id": "o0SaWNfqNeGZ"
   }
  },
  {
   "cell_type": "markdown",
   "source": [
    "Implement an object \"StudentManager\", and the corresponding functions. You may check the docstring for more details and write your code from \"# Your code here\" to \"# End your code\".\n",
    "\n",
    "**Note:**\n",
    "The average grade can be calculated as follows:\n",
    "\n",
    "$$\n",
    "scores = \\frac{\\sum(credits * grade)}{\\sum(credits)}\n",
    "$$\n"
   ],
   "metadata": {
    "id": "QFuguKuszryl"
   }
  },
  {
   "cell_type": "code",
   "execution_count": 1,
   "metadata": {
    "id": "XOPNzN2W79wr",
    "ExecuteTime": {
     "end_time": "2024-05-06T08:48:24.830017200Z",
     "start_time": "2024-05-06T08:48:24.822900800Z"
    }
   },
   "outputs": [],
   "source": [
    "class StudentManager:\n",
    "  \"\"\"This is a toy class for students to\n",
    "  learn the basic use of Python.\n",
    "  You need to implement the functions based on\n",
    "  the descriptions.\n",
    "  \"\"\"\n",
    "  def __init__(self):\n",
    "    \"\"\"The initialization of this class.\"\"\"\n",
    "    self.student = []\n",
    "  def add_student(self, name, age, courses):\n",
    "    \"\"\"This function will add the students' name, age\n",
    "    and the courses they have taken. Please save these\n",
    "    information in a dictionary and put them into\n",
    "    the list of \"self.student\".\n",
    "\n",
    "    Parameters\n",
    "    ----------\n",
    "    name: Str\n",
    "      The name of the students.\n",
    "    age: Int\n",
    "      The age of the students.\n",
    "    courses: Dict[str, List[int]]\n",
    "      The courses the students have taken. The key is\n",
    "      the name of the course. The List contains two integer\n",
    "      elements. The first is the credits of the course, and\n",
    "      the second is the student's grade.\n",
    "    \"\"\"\n",
    "    # Your code here\n",
    "    students = {\n",
    "            \"name\": name,\n",
    "            \"age\": age,\n",
    "            \"courses\": courses\n",
    "        }\n",
    "    self.student.append(students)\n",
    " \n",
    "    # End code here\n",
    "\n",
    "  def average_scores(self):\n",
    "    \"\"\"This function is used to query average grades.\n",
    "\n",
    "    Returns\n",
    "    -------\n",
    "    scores: List[Float]\n",
    "      The average scores of the students\n",
    "    \"\"\"\n",
    "    # Your code here\n",
    "    scores = []\n",
    "    scores_sum = 0\n",
    "    credits_sum = 0\n",
    "    for i in range(0,len(self.student)):\n",
    "            for values in  self.student[i].get('courses').values():             \n",
    "                scores_sum += values[0]*values[1]\n",
    "                credits_sum += values[0]\n",
    "            scores_average = scores_sum/credits_sum\n",
    "            scores.append(scores_average)\n",
    "            scores_sum = 0\n",
    "            credits_sum = 0\n",
    "    # End code here\n",
    "    return scores\n"
   ]
  },
  {
   "cell_type": "markdown",
   "source": [
    "Now, you have implemented a basic class. Then, you may try the following part, and learn the usage of python class inheritance. You will create another class called \"GraduateStudent\" and inherit the \"StudentManager\" mentioned above. What's more, you need to implement another function described as follows:\n",
    "\n",
    "```python\n",
    "def find_students_in_course(self, course_name):\n",
    "  \"\"\"This function is used to query the name of\n",
    "  the students who have taken the course named [course_name].\n",
    "\n",
    "  Parameters\n",
    "  ----------\n",
    "  course_name: str\n",
    "    The name of the course.\n",
    "\n",
    "  Returns\n",
    "  -------\n",
    "  found_students: List[str]\n",
    "    The name list of the students who have taken\n",
    "    the course.\n",
    "  \"\"\"\n",
    "  # Your code here\n",
    "  found_students = []\n",
    "  for key,values in  self.student['courses']:\n",
    "    if key == course_name:\n",
    "        found_students.append(values)\n",
    "  # End code here\n",
    "  return found_students\n",
    "\n",
    "```"
   ],
   "metadata": {
    "id": "xNrexWYu5DrO"
   }
  },
  {
   "cell_type": "code",
   "source": [
    "class GraduateStudent(StudentManager):\n",
    "    def __init__(self):\n",
    "        #调用父类的构函\n",
    "        StudentManager.__init__(self)\n",
    "        \n",
    "    def find_students_in_course(self, course_name):\n",
    "        found_students = []\n",
    "        for i in range(0,len(self.student)):\n",
    "            for key in  self.student[i].get('courses'):\n",
    "                if key == course_name:\n",
    "                    found_students.append(self.student[i].get('name'))\n",
    "                else:\n",
    "                    continue\n",
    "  # End code here\n",
    "        return found_students\n",
    "        "
   ],
   "metadata": {
    "id": "-3JbuGEQ6xbT",
    "ExecuteTime": {
     "end_time": "2024-05-06T08:48:26.597798400Z",
     "start_time": "2024-05-06T08:48:26.572811100Z"
    }
   },
   "execution_count": 2,
   "outputs": []
  },
  {
   "cell_type": "markdown",
   "source": [
    "After implementing the classes, you need to test the correctness. Try the following codes and check your answer."
   ],
   "metadata": {
    "id": "ZcPQah0H61Vi"
   }
  },
  {
   "cell_type": "code",
   "source": [
    "graduate_manager = GraduateStudent()\n",
    "course = {\n",
    "    \"Math\": [5, 80],\n",
    "    \"Physics\": [3, 76]\n",
    "          }\n",
    "graduate_manager.add_student(\"Alice\", 25, course)\n",
    "course = {\n",
    "    \"Math\": [5, 74],\n",
    "    \"Computer Science\": [2, 92]\n",
    "          }\n",
    "graduate_manager.add_student(\"Bob\", 27, course)\n",
    "course = {\n",
    "    \"Computer Science\": [2, 87]\n",
    "          }\n",
    "graduate_manager.add_student(\"Eve\", 26, course)\n",
    "# print(graduate_manager.student[1].get('courses'))\n",
    "\n",
    "assert graduate_manager.find_students_in_course(\"Math\") == [\"Alice\", \"Bob\"]\n",
    "print(graduate_manager.find_students_in_course(\"Math\") == [\"Alice\", \"Bob\"])\n",
    "import numpy as np\n",
    "assert np.allclose(graduate_manager.average_scores(), [78.5, 79.14285714285714, 87.0])\n",
    "print(np.allclose(graduate_manager.average_scores(), [78.5, 79.14285714285714, 87.0]))"
   ],
   "metadata": {
    "id": "2KsRFsCh7H9a",
    "ExecuteTime": {
     "end_time": "2024-05-06T08:48:28.864675700Z",
     "start_time": "2024-05-06T08:48:27.877874800Z"
    }
   },
   "execution_count": 3,
   "outputs": [
    {
     "name": "stdout",
     "output_type": "stream",
     "text": [
      "True\n",
      "True\n"
     ]
    }
   ]
  },
  {
   "cell_type": "code",
   "execution_count": null,
   "outputs": [],
   "source": [],
   "metadata": {
    "collapsed": false,
    "is_executing": true
   }
  },
  {
   "cell_type": "code",
   "execution_count": null,
   "outputs": [],
   "source": [],
   "metadata": {
    "collapsed": false
   }
  }
 ]
}
