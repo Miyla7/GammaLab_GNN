{
 "nbformat": 4,
 "nbformat_minor": 0,
 "metadata": {
  "colab": {
   "provenance": []
  },
  "kernelspec": {
   "name": "conda-env-GNN-py",
   "language": "python",
   "display_name": "Python [conda env:GNN] *"
  },
  "language_info": {
   "name": "python"
  }
 },
 "cells": [
  {
   "cell_type": "markdown",
   "source": [
    "In this work, you are required to train a model for dataset MNIST with PyTorch."
   ],
   "metadata": {
    "id": "chi4omZLZbt4"
   }
  },
  {
   "cell_type": "markdown",
   "source": [
    "Load dataset:"
   ],
   "metadata": {
    "id": "jrA70ruIaN-A"
   }
  },
  {
   "cell_type": "code",
   "execution_count": null,
   "metadata": {
    "id": "dguqwltQ9TC4"
   },
   "outputs": [],
   "source": [
    "import torchvision\n",
    "from torchvision.datasets import MNIST\n",
    "from torch.utils.data import DataLoader\n",
    "import torch\n",
    "import torch.nn as nn\n",
    "import torch.nn.functional as F\n",
    "\n",
    "train_data = MNIST(\n",
    "    root = \"data\",\n",
    "    download = True,\n",
    "    train = True,\n",
    "    transform = torchvision.transforms.ToTensor()\n",
    "    )\n",
    "test_data = MNIST(\n",
    "    root = \"data\",\n",
    "    download = True,\n",
    "    train = False,\n",
    "    transform = torchvision.transforms.ToTensor()\n",
    "    )\n",
    "\n",
    "train_dataloader = DataLoader(train_data, batch_size = 64)\n",
    "test_dataloader = DataLoader(test_data, batch_size = 64)"
   ]
  },
  {
   "cell_type": "markdown",
   "source": [
    "Model: you may select your favorite model and implement it in the following class."
   ],
   "metadata": {
    "id": "ovgrtfvNa-VF"
   }
  },
  {
   "cell_type": "code",
   "source": [
    "class Model:\n",
    "  # Your code here\n",
    "  pass\n",
    "  # End code here"
   ],
   "metadata": {
    "id": "I_Bo3r3FbIWO"
   },
   "execution_count": null,
   "outputs": []
  },
  {
   "cell_type": "markdown",
   "source": [
    "Evaluation: you need to implement a pipeline to train your neural network."
   ],
   "metadata": {
    "id": "F2IadIrIbU8V"
   }
  },
  {
   "cell_type": "code",
   "source": [
    "model = Model()\n",
    "optimizer = torch.optim.Adam(model.parameters())\n",
    "loss_func = nn.CrossEntropyLoss()\n",
    "for epoch in range(epochs):\n",
    "  # Your code here\n",
    "  pass\n",
    "  # End code here"
   ],
   "metadata": {
    "id": "0RKqr0UebjDf"
   },
   "execution_count": null,
   "outputs": []
  }
 ]
}
