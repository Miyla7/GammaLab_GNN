{
 "cells": [
  {
   "cell_type": "code",
   "execution_count": 2,
   "outputs": [
    {
     "name": "stdout",
     "output_type": "stream",
     "text": [
      "使用第一个GPU\n",
      "Graph(num_nodes=5, num_edges=3,\n",
      "      ndata_schemes={'x': Scheme(shape=(5,), dtype=torch.float32)}\n",
      "      edata_schemes={'e': Scheme(shape=(3,), dtype=torch.float32)})\n"
     ]
    }
   ],
   "source": [
    "import dgl\n",
    "import torch\n",
    "\n",
    "device = ''\n",
    "if torch.cuda.is_available():\n",
    "    device = 'cuda:0'\n",
    "    print('使用第一个GPU')\n",
    "else:\n",
    "    device = 'GPU不可用'\n",
    "\n",
    "u, v = torch.tensor([0, 1, 2]).to(device), torch.tensor([2, 3, 4]).to(device)\n",
    "graph = dgl.graph((u, v))\n",
    "nodes_feaure = torch.randn((graph.num_nodes(), 5)).to(device)\n",
    "edges_feature = torch.randn((graph.num_edges(), 3)).to(device)\n",
    "graph.ndata['x'] = nodes_feaure\n",
    "graph.edata['e'] = edges_feature\n",
    "print(graph)\n"
   ],
   "metadata": {
    "collapsed": false,
    "ExecuteTime": {
     "end_time": "2024-06-03T08:49:51.555520700Z",
     "start_time": "2024-06-03T08:49:51.543432600Z"
    }
   },
   "id": "33d5bbc8704e56a0"
  },
  {
   "cell_type": "code",
   "execution_count": null,
   "outputs": [],
   "source": [],
   "metadata": {
    "collapsed": false
   },
   "id": "96b63cb69504caed"
  }
 ],
 "metadata": {
  "kernelspec": {
   "display_name": "Python 3",
   "language": "python",
   "name": "python3"
  },
  "language_info": {
   "codemirror_mode": {
    "name": "ipython",
    "version": 2
   },
   "file_extension": ".py",
   "mimetype": "text/x-python",
   "name": "python",
   "nbconvert_exporter": "python",
   "pygments_lexer": "ipython2",
   "version": "2.7.6"
  }
 },
 "nbformat": 4,
 "nbformat_minor": 5
}
